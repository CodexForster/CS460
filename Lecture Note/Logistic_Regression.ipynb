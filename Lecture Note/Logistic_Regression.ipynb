{
  "nbformat": 4,
  "nbformat_minor": 0,
  "metadata": {
    "kernelspec": {
      "display_name": "Python 2.7.17 64-bit",
      "language": "python",
      "name": "python271764bitd0fd74720b7641bfb842bd7eb276fc72"
    },
    "language_info": {
      "codemirror_mode": {
        "name": "ipython",
        "version": 3
      },
      "file_extension": ".py",
      "mimetype": "text/x-python",
      "name": "python",
      "nbconvert_exporter": "python",
      "pygments_lexer": "ipython3",
      "version": "2.7.17-final"
    },
    "colab": {
      "name": "Logistic_Regression.ipynb",
      "provenance": [],
      "collapsed_sections": [],
      "toc_visible": true
    }
  },
  "cells": [
    {
      "cell_type": "code",
      "metadata": {
        "id": "NAPhZTKmsoTX"
      },
      "source": [
        "import numpy as np\n",
        "import pandas as pd\n",
        "import matplotlib.pyplot as plt\n",
        "%matplotlib inline\n",
        "import seaborn as sns\n",
        "import sklearn\n",
        "import random\n",
        "from sklearn.model_selection import train_test_split\n",
        "from sklearn.preprocessing import StandardScaler\n",
        "from sklearn.metrics import accuracy_score"
      ],
      "execution_count": 25,
      "outputs": []
    },
    {
      "cell_type": "code",
      "metadata": {
        "id": "1ZyY95eD2d4O",
        "outputId": "0a0db4f9-bfad-4b62-cafb-b0647e1e3088",
        "colab": {
          "base_uri": "https://localhost:8080/",
          "height": 295
        }
      },
      "source": [
        "# Let us first create our input Data. We look to having 2 features (x and y co-ordinate) and 2 labels: 0 and 1 \n",
        "np.random.seed(10)\n",
        "num_observations = 1000\n",
        "\n",
        "# Create a 2-dimensional Gaussian Distribution. We make 2 distributions, one for each label.\n",
        "mean1 = (0, 0) # Mean of first distribution\n",
        "mean2 = (2, 4) # Mean of second distribution\n",
        "cov = [[1, 0], [0, 1]] # Co-variance of both distributions\n",
        "data1=[]\n",
        "x1, y1 = np.random.multivariate_normal(mean1, cov, num_observations).T\n",
        "x2, y2 = np.random.multivariate_normal(mean2, cov, num_observations).T\n",
        "for i in range(len(x1)):\n",
        "    t1 = x1[i]\n",
        "    t2 = y1[i]\n",
        "    data1.append([t1,t2,1])\n",
        "for i in range(len(x1)):\n",
        "    t1 = x2[i]\n",
        "    t2 = y2[i]\n",
        "    data1.append([t1,t2,0])\n",
        "\n",
        "# Convert to DataFrame\n",
        "data = pd.DataFrame(data1)\n",
        "data.columns=['x', 'y', 'label']\n",
        "column = data[\"x\"]\n",
        "\n",
        "# Plot the input data\n",
        "fig = plt.figure()\n",
        "ax1 = fig.add_subplot(111)\n",
        "plt.xlabel('x - coordinate')\n",
        "plt.ylabel('y - coordinate')\n",
        "ax1.scatter(data[0:num_observations]['x'], data[0:num_observations]['y'], label='Positive Label')\n",
        "ax1.scatter(data[num_observations:2*num_observations]['x'], data[num_observations:2*num_observations]['y'], label='Negative Label')\n",
        "plt.legend(loc='best')\n",
        "plt.title('Input Data Scatter Plot')\n",
        "plt.show()"
      ],
      "execution_count": 9,
      "outputs": [
        {
          "output_type": "display_data",
          "data": {
            "image/png": "[encoded data removed]",
            "text/plain": [
              "<Figure size 432x288 with 1 Axes>"
            ]
          },
          "metadata": {
            "tags": [],
            "needs_background": "light"
          }
        }
      ]
    },
    {
      "cell_type": "code",
      "metadata": {
        "collapsed": true,
        "id": "w9GTxQcssoTg",
        "outputId": "8fc47ff8-70dc-40a4-d7c9-836854986622",
        "colab": {
          "base_uri": "https://localhost:8080/",
          "height": 53
        }
      },
      "source": [
        "# Save the input training data as feature values and corresponding label\n",
        "inp_df = data.drop(data.columns[[2]], axis=1)\n",
        "out_df = data.drop(data.columns[[0,1]], axis=1)\n",
        "\n",
        "# Standardize features by removing the mean and scaling to unit variance\n",
        "scaler = StandardScaler()\n",
        "inp_df = scaler.fit_transform(inp_df)\n",
        "\n",
        "# Split training data into training data and testing data\n",
        "X_train, X_test, y_train, y_test = train_test_split(inp_df, out_df, test_size=0.2, random_state=20)\n",
        "y_tr_arr = y_train.to_numpy()\n",
        "y_ts_arr = y_test.to_numpy()\n",
        "print('Input Shape', (X_train.shape))\n",
        "print('Output Shape', X_test.shape)"
      ],
      "execution_count": 10,
      "outputs": [
        {
          "output_type": "stream",
          "text": [
            "Input Shape (1600, 2)\n",
            "Output Shape (400, 2)\n"
          ],
          "name": "stdout"
        }
      ]
    },
    {
      "cell_type": "markdown",
      "metadata": {
        "id": "TX-pQCglCpFd"
      },
      "source": [
        "# Logistic Regression Using Python Packages"
      ]
    },
    {
      "cell_type": "code",
      "metadata": {
        "id": "oDNKJAAHsoUe",
        "outputId": "87aa5c07-5b7e-44d4-be1e-676ca43f8045",
        "colab": {
          "base_uri": "https://localhost:8080/",
          "height": 53
        }
      },
      "source": [
        "from sklearn.linear_model import LogisticRegression\n",
        "\n",
        "clf = LogisticRegression()\n",
        "clf.fit(X_train, np.ravel(y_tr_arr, order='C'))\n",
        "print ('The optimised parameters(weights, intercept) are: ', clf.coef_, clf.intercept_)\n",
        "pred = clf.predict(X_test)\n",
        "print ('Testing accuracy from sk-learn: {0}'.format(clf.score(X_test, np.ravel(y_ts_arr,order='C'))))"
      ],
      "execution_count": 11,
      "outputs": [
        {
          "output_type": "stream",
          "text": [
            "The optimised parameters(weights, intercept) are:  [[-2.22400469 -5.98777677]] [-0.06689535]\n",
            "Testing accuracy from sk-learn: 0.99\n"
          ],
          "name": "stdout"
        }
      ]
    },
    {
      "cell_type": "markdown",
      "metadata": {
        "id": "OovC4-uasoTo"
      },
      "source": [
        "#Logistic Regression Using NumPy\n",
        "\n",
        "Please note that for the next two code blocks, this source (https://github.com/SSaishruthi/LogisticRegression_Vectorized_Implementation) has been referred, but with slight improvements.\n",
        "\n"
      ]
    },
    {
      "cell_type": "code",
      "metadata": {
        "id": "qLpX94FDsoTw"
      },
      "source": [
        "def logistic(x):\n",
        "    final_result = 1/(1+np.exp(-x))\n",
        "    return final_result\n",
        "\n",
        "def model_optimize(w, b, X, Y):\n",
        "    m = X.shape[0]\n",
        "    \n",
        "    # Prediction\n",
        "    final_result = logistic(np.dot(w,X.T)+b)\n",
        "    Y_T = Y.T\n",
        "\n",
        "    # Log-likelihood, but with a negative sign, because with gradient descent, we look to minimising the loss function, which in our case is the log-likelihood\n",
        "    cost = (-1/m)*(np.sum((Y_T*np.log(final_result)) + ((1-Y_T)*(np.log(1-final_result)))))\n",
        "   \n",
        "    # Gradient calculation\n",
        "    dw = (1/m)*(np.dot(X.T, (final_result-Y.T).T))\n",
        "    db = (1/m)*(np.sum(final_result-Y.T))\n",
        "    \n",
        "    grads = {\"dw\": dw, \"db\": db}\n",
        "    \n",
        "    return grads, cost\n",
        "    \n",
        "def model_predict(w, b, X, Y, learning_rate, no_iterations):\n",
        "    costs = []\n",
        "    for i in range(no_iterations):\n",
        "        grads, cost = model_optimize(w,b,X,Y)\n",
        "        dw = grads[\"dw\"]\n",
        "        db = grads[\"db\"]\n",
        "        # Update the Weights\n",
        "        w = w - (learning_rate * (dw.T))\n",
        "        b = b - (learning_rate * db)\n",
        "       \n",
        "        if (i % 100 == 0):\n",
        "            costs.append(cost)\n",
        "    \n",
        "    # Final parameters\n",
        "    coeff = {\"w\": w, \"b\": b}\n",
        "    gradient = {\"dw\": dw, \"db\": db}\n",
        "    \n",
        "    return coeff, gradient, costs\n",
        "\n",
        "def predict(final_pred, m, threshold):\n",
        "    # A threshold is added, so the user can play with this number to see how the accuracy changes.\n",
        "    y_pred = np.zeros((1,m))\n",
        "    for i in range(final_pred.shape[1]):\n",
        "        if final_pred[0][i] > threshold:\n",
        "            y_pred[0][i] = 1\n",
        "    return y_pred"
      ],
      "execution_count": 12,
      "outputs": []
    },
    {
      "cell_type": "code",
      "metadata": {
        "id": "xL6vylwtsoUQ",
        "outputId": "63fe1a2c-5786-4ef6-c28c-c405d77ac789",
        "colab": {
          "base_uri": "https://localhost:8080/",
          "height": 107
        }
      },
      "source": [
        "# Get number of features, which in our case is 2\n",
        "n_features = X_train.shape[1]\n",
        "print('Number of Features', n_features)\n",
        "\n",
        "# Initialise parameters. Since our example is a very simple one, we will take up initialisation to zero.\n",
        "w = np.zeros((1,n_features))\n",
        "b = 0\n",
        "\n",
        "# Set Threshold \n",
        "t = 0.5\n",
        "\n",
        "# Perform Gradient Descent\n",
        "coeff, gradient, costs = model_predict(w, b, X_train, y_tr_arr, learning_rate=0.0001,no_iterations=4500)\n",
        "w = coeff[\"w\"]\n",
        "b = coeff[\"b\"]\n",
        "print('Optimized weights', w)\n",
        "print('Optimized intercept',b)\n",
        "\n",
        "final_train_pred = logistic(np.dot(w,X_train.T)+b)\n",
        "final_test_pred = logistic(np.dot(w,X_test.T)+b)\n",
        "m_tr =  X_train.shape[0]\n",
        "m_ts =  X_test.shape[0]\n",
        "\n",
        "# Get Training Accuracy\n",
        "y_tr_pred = predict(final_train_pred, m_tr, t)\n",
        "print('Training Accuracy',accuracy_score(y_tr_pred.T, y_tr_arr))\n",
        "\n",
        "# Get Testing Accuracy\n",
        "y_ts_pred = predict(final_test_pred, m_ts, t)\n",
        "print('Test Accuracy',accuracy_score(y_ts_pred.T, y_ts_arr))"
      ],
      "execution_count": 34,
      "outputs": [
        {
          "output_type": "stream",
          "text": [
            "Number of Features 2\n",
            "Optimized weights [[-0.14523948 -0.18649513]]\n",
            "Optimized intercept -0.0031321592899463723\n",
            "Training Accuracy 0.981875\n",
            "Test Accuracy 0.9825\n"
          ],
          "name": "stdout"
        }
      ]
    },
    {
      "cell_type": "code",
      "metadata": {
        "id": "gR4to7jf6hgc"
      },
      "source": [
        ""
      ],
      "execution_count": null,
      "outputs": []
    },
    {
      "cell_type": "markdown",
      "metadata": {
        "id": "OdVuz0pOENMV"
      },
      "source": [
        "## We see that sk-learn gave us a testing accuracy of 0.99 while the NumPy code gave us an accuracy of 0.98."
      ]
    }
  ]
}